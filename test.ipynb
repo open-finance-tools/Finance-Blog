{
 "cells": [
  {
   "cell_type": "code",
   "execution_count": 3,
   "metadata": {},
   "outputs": [
    {
     "name": "stdout",
     "output_type": "stream",
     "text": [
      "root:[.]\n",
      "+--.DS_Store\n",
      "+--mkdocs.yml\n",
      "+--autopush.sh\n",
      "+--style_settings.yml\n",
      "+--docs\n",
      "| +--.DS_Store\n",
      "| +--homepage\n",
      "| | +--.DS_Store\n",
      "| | +--Mountain.jpg\n",
      "| +--technical_skills\n",
      "| | +--library\n",
      "| | | +--mkdocs.md\n",
      "| | +--syntax\n",
      "| | +--about.md\n",
      "| +--blog\n",
      "| | +--posts\n",
      "| | +--index.md\n",
      "| +--courses\n",
      "| | +--about.md\n",
      "| +--index.md\n",
      "| +--assets\n",
      "| | +--fruit\n",
      "| | | +--.DS_Store\n",
      "| | | +--lemon.svg\n",
      "| | | +--watermelon.svg\n",
      "| +--stylesheets\n",
      "| | +--extra.css\n",
      "+--README.md\n",
      "+--site\n",
      "| +--index.html\n",
      "| +--homepage\n",
      "| | +--Mountain.jpg\n",
      "| +--technical_skills\n",
      "| | +--about.html\n",
      "| | +--mkdocs.html\n",
      "| +--404.html\n",
      "| +--blog\n",
      "| | +--index.html\n",
      "| +--search\n",
      "| | +--search_index.js\n",
      "| | +--search_index.json\n",
      "| +--courses\n",
      "| | +--about.html\n",
      "| +--sitemap.xml\n",
      "| +--sitemap.xml.gz\n",
      "| +--assets\n",
      "| | +--fruit\n",
      "| | | +--lemon.svg\n",
      "| | | +--watermelon.svg\n",
      "| | +--images\n",
      "| | | +--favicon.png\n",
      "| | +--javascripts\n",
      "| | | +--bundle.aecac24b.min.js\n",
      "| | | +--lunr\n",
      "| | | | +--tinyseg.js\n",
      "| | | | +--wordcut.js\n",
      "| | | | +--min\n",
      "| | | | | +--lunr.pt.min.js\n",
      "| | | | | +--lunr.el.min.js\n",
      "| | | | | +--lunr.fr.min.js\n",
      "| | | | | +--lunr.he.min.js\n",
      "| | | | | +--lunr.hi.min.js\n",
      "| | | | | +--lunr.zh.min.js\n",
      "| | | | | +--lunr.ko.min.js\n",
      "| | | | | +--lunr.ja.min.js\n",
      "| | | | | +--lunr.te.min.js\n",
      "| | | | | +--lunr.stemmer.support.min.js\n",
      "| | | | | +--lunr.hy.min.js\n",
      "| | | | | +--lunr.hu.min.js\n",
      "| | | | | +--lunr.vi.min.js\n",
      "| | | | | +--lunr.ta.min.js\n",
      "| | | | | +--lunr.sv.min.js\n",
      "| | | | | +--lunr.nl.min.js\n",
      "| | | | | +--lunr.ar.min.js\n",
      "| | | | | +--lunr.tr.min.js\n",
      "| | | | | +--lunr.da.min.js\n",
      "| | | | | +--lunr.du.min.js\n",
      "| | | | | +--lunr.fi.min.js\n",
      "| | | | | +--lunr.th.min.js\n",
      "| | | | | +--lunr.kn.min.js\n",
      "| | | | | +--lunr.es.min.js\n",
      "| | | | | +--lunr.ro.min.js\n",
      "| | | | | +--lunr.sa.min.js\n",
      "| | | | | +--lunr.de.min.js\n",
      "| | | | | +--lunr.no.min.js\n",
      "| | | | | +--lunr.multi.min.js\n",
      "| | | | | +--lunr.jp.min.js\n",
      "| | | | | +--lunr.it.min.js\n",
      "| | | | | +--lunr.ru.min.js\n",
      "| | | +--workers\n",
      "| | | | +--search.f886a092.min.js.map\n",
      "| | | | +--search.f886a092.min.js\n",
      "| | | +--bundle.aecac24b.min.js.map\n",
      "| | +--stylesheets\n",
      "| | | +--main.35e1ed30.min.css.map\n",
      "| | | +--palette.356b1318.min.css\n",
      "| | | +--main.35e1ed30.min.css\n",
      "| | | +--palette.356b1318.min.css.map\n",
      "+--text.txt\n",
      "+--yml_autobuild.py\n",
      "+--test.ipynb\n"
     ]
    }
   ],
   "source": [
    "import os\n",
    "import os.path\n",
    "\n",
    "def dfs_showdir(path, depth):\n",
    "    if depth == 0:\n",
    "        print(\"root:[\" + path + \"]\")\n",
    "\n",
    "    for item in os.listdir(path):\n",
    "        if '.git' not in item:\n",
    "            print(\"| \" * depth + \"+--\" + item)\n",
    "\n",
    "            newitem = path +'/'+ item\n",
    "            if os.path.isdir(newitem):\n",
    "                dfs_showdir(newitem, depth +1)\n",
    "                \n",
    "dfs_showdir('.', 0)\n"
   ]
  },
  {
   "cell_type": "code",
   "execution_count": 8,
   "metadata": {},
   "outputs": [],
   "source": [
    "import os\n",
    "import os.path\n",
    "if os.listdir('./docs/Tools/Language/LaTex'):\n",
    "    print('yes')"
   ]
  },
  {
   "cell_type": "code",
   "execution_count": 4,
   "metadata": {},
   "outputs": [
    {
     "name": "stdout",
     "output_type": "stream",
     "text": [
      "False\n"
     ]
    }
   ],
   "source": [
    "import os\n",
    "import os.path\n",
    "\n",
    "def is_dir_empty(path, depth):\n",
    "    for item in os.listdir(path):\n",
    "        if os.path.isdir(path + '/' + item):\n",
    "            pass\n",
    "        else:\n",
    "            return False\n",
    "        newitem = path + '/' + item\n",
    "        if os.path.isdir(newitem):\n",
    "            is_dir_empty(newitem, depth + 1)\n",
    "    return True\n",
    "\n",
    "# print(is_dir_empty('./', 0)) #False\n",
    "# print(is_dir_empty('./docs/Tools/Language/LaTex', 0)) #True\n",
    "# print(is_dir_empty('docs/Courses', 0)) #False\n",
    "# print(is_dir_empty('docs/Tools/Language', 0)) #True\n",
    "print(is_dir_empty('docs/Tools/Library/MkDocs', 0)) #False\n"
   ]
  },
  {
   "cell_type": "code",
   "execution_count": 1,
   "metadata": {},
   "outputs": [
    {
     "name": "stdout",
     "output_type": "stream",
     "text": [
      "Blog\n"
     ]
    }
   ],
   "source": [
    "\n",
    "def get_first_line(path):\n",
    "    with open(path, 'r', encoding='utf-8') as f:  # 打开文件\n",
    "        lines = f.readlines()  # 读取所有行\n",
    "        first_line = lines[0]  # 取第一行\n",
    "    \n",
    "    return first_line[2:-1]\n",
    "\n",
    "print(get_first_line('docs/PaperReading/index.md'))"
   ]
  }
 ],
 "metadata": {
  "kernelspec": {
   "display_name": "Python 3",
   "language": "python",
   "name": "python3"
  },
  "language_info": {
   "codemirror_mode": {
    "name": "ipython",
    "version": 3
   },
   "file_extension": ".py",
   "mimetype": "text/x-python",
   "name": "python",
   "nbconvert_exporter": "python",
   "pygments_lexer": "ipython3",
   "version": "3.9.6"
  }
 },
 "nbformat": 4,
 "nbformat_minor": 2
}
